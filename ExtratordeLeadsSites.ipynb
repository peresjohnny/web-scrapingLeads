{
  "nbformat": 4,
  "nbformat_minor": 0,
  "metadata": {
    "colab": {
      "provenance": [],
      "authorship_tag": "ABX9TyOIRA/WrzrV6BgmNHT2IKJ6",
      "include_colab_link": true
    },
    "kernelspec": {
      "name": "python3",
      "display_name": "Python 3"
    },
    "language_info": {
      "name": "python"
    }
  },
  "cells": [
    {
      "cell_type": "markdown",
      "metadata": {
        "id": "view-in-github",
        "colab_type": "text"
      },
      "source": [
        "<a href=\"https://colab.research.google.com/github/peresjohnny/web-scrapingLeads/blob/main/ExtratordeLeadsSites.ipynb\" target=\"_parent\"><img src=\"https://colab.research.google.com/assets/colab-badge.svg\" alt=\"Open In Colab\"/></a>"
      ]
    },
    {
      "cell_type": "code",
      "source": [
        "from google.colab import drive\n",
        "drive.mount('/content/drive')\n"
      ],
      "metadata": {
        "colab": {
          "base_uri": "https://localhost:8080/"
        },
        "id": "JC-9ykQw42kt",
        "outputId": "ab8468f2-e313-4857-a4c3-1d673391383c"
      },
      "execution_count": null,
      "outputs": [
        {
          "output_type": "stream",
          "name": "stdout",
          "text": [
            "Mounted at /content/drive\n"
          ]
        }
      ]
    },
    {
      "cell_type": "code",
      "source": [
        "import random\n",
        "import time\n",
        "import re\n",
        "import pandas as pd\n",
        "from google.colab import drive\n",
        "from google.colab import auth\n",
        "from selenium import webdriver\n",
        "from selenium.common.exceptions import TimeoutException, WebDriverException\n",
        "from selenium.webdriver.common.by import By\n",
        "from selenium.webdriver.support.ui import WebDriverWait\n",
        "from selenium.webdriver.support import expected_conditions as EC\n",
        "\n",
        "def install_libraries():\n",
        "    !pip install gspread\n",
        "    !pip install google-auth\n",
        "    !pip install selenium\n",
        "\n",
        "def extract_emails_and_phones(url):\n",
        "    try:\n",
        "        options = webdriver.FirefoxOptions()\n",
        "        options.add_argument('--headless')\n",
        "\n",
        "        driver = webdriver.Firefox(options=options)\n",
        "        driver.get(url)\n",
        "\n",
        "        WebDriverWait(driver, 20).until(EC.presence_of_element_located((By.XPATH, '//a[contains(@href, \"mailto:\") or contains(@href, \"tel:\")]')))\n",
        "\n",
        "        email_links = driver.find_elements(By.XPATH, '//a[contains(@href, \"mailto:\")]')\n",
        "        phone_links = driver.find_elements(By.XPATH, '//a[contains(@href, \"tel:\")]')\n",
        "\n",
        "        emails = []\n",
        "        phones = []\n",
        "\n",
        "        for email_link in email_links:\n",
        "            email_match = re.search(r'mailto:(.+)', email_link.get_attribute('href'))\n",
        "            if email_match:\n",
        "                email = email_match.group(1)\n",
        "                emails.append(email)\n",
        "\n",
        "        for phone_link in phone_links:\n",
        "            phone_href = phone_link.get_attribute('href')\n",
        "            if phone_href:\n",
        "                phone_match = re.search(r'tel:(.+)', phone_href)\n",
        "                if phone_match:\n",
        "                    phone = phone_match.group(1)\n",
        "                    phones.append(phone)\n",
        "\n",
        "        return emails, phones\n",
        "\n",
        "    except WebDriverException as e:\n",
        "        print(f\"Erro ao criar o WebDriver: {e}\")\n",
        "        return [], []\n",
        "\n",
        "    except TimeoutException:\n",
        "        print(f\"Timeout ao extrair dados de: {url}\")\n",
        "        return [], []\n",
        "\n",
        "    finally:\n",
        "        if 'driver' in locals():\n",
        "            driver.quit()\n",
        "\n",
        "def save_data_to_csv(emails, phones, url, filename='/content/drive/My Drive/emails_and_phones.csv'):\n",
        "    try:\n",
        "        with open(filename, 'a') as file:\n",
        "            for email, phone in zip(emails, phones):\n",
        "                file.write(f\"{url},{email},{phone}\\n\")\n",
        "\n",
        "        print(f\"Dados salvos com sucesso no arquivo {filename}\")\n",
        "    except Exception as e:\n",
        "        print(f\"Erro ao salvar dados no arquivo: {e}\")\n",
        "\n",
        "install_libraries()\n",
        "\n",
        "drive.mount('/content/drive')\n",
        "auth.authenticate_user()\n",
        "\n",
        "urls = [\n",
        "    \"\",\n",
        "    \"\",\n",
        "    \"\",\n",
        "    \"\",\n",
        "    \"\",\n",
        "    \"\",\n",
        "    \"\",\n",
        "    \"\",\n",
        "    \"\",\n",
        "    \"\",\n",
        "    \"\",\n",
        "    \"\",\n",
        "    \"\",\n",
        "    \"\",\n",
        "    \"\",\n",
        "    \"\",\n",
        "    \"\",\n",
        "    \"\",\n",
        "    \"\",\n",
        "    \"\",\n",
        "    \"\",\n",
        "    \"\",\n",
        "    \"\",\n",
        "\n",
        "]\n",
        "\n",
        "for url in urls:\n",
        "    print(f\"Extraindo dados de: {url}\")\n",
        "    emails, phones = extract_emails_and_phones(url)\n",
        "\n",
        "    print(\"E-mails encontrados:\")\n",
        "    for email in emails:\n",
        "        print(email)\n",
        "\n",
        "    print(\"Telefones encontrados:\")\n",
        "    for phone in phones:\n",
        "        print(phone)\n",
        "\n",
        "    save_data_to_csv(emails, phones, url)\n",
        "\n",
        "    time.sleep(random.randint(5, 10))\n"
      ],
      "metadata": {
        "id": "IoM7RlAI9QLL"
      },
      "execution_count": null,
      "outputs": []
    }
  ]
}